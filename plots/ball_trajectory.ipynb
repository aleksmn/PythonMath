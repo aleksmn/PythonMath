{
 "cells": [
  {
   "cell_type": "markdown",
   "metadata": {},
   "source": [
    "## Модель Галилея"
   ]
  },
  {
   "cell_type": "markdown",
   "metadata": {},
   "source": [
    "Если не учитывать ветер и сопротивление воздуха и предположить, что мяч начинает\n",
    "движение на уровне земли, то, согласно модели Галилея, горизонтальная позиция\n",
    "брошенного мяча в момент времени $t$ определяется формулой\n",
    "\n",
    "$x = v_1t$,\n",
    "\n",
    "где $v_1$ - это начальная скорость мяча по оси $x$ (по горизонтали)."
   ]
  },
  {
   "cell_type": "markdown",
   "metadata": {},
   "source": [
    "Высота брошенного мяча ($y$) в момент времени $t$ по Галилею вычисляется по формуле\n",
    "\n",
    "$y = v_2 t - \\frac{gt^2}{2}$,\n",
    "\n",
    "где $v_2$ — начальная скорость мяча по оси $y$ (по вертикали); $g$ — постоянное ускорение\n",
    "свободного падения под воздействием силы тяжести (примерно равно 9,8 $м/с^2$)"
   ]
  },
  {
   "cell_type": "markdown",
   "metadata": {},
   "source": [
    "Выведем t из первого уравнения:\n",
    "$t = \\frac{x}  {v_1}$,"
   ]
  },
  {
   "cell_type": "markdown",
   "metadata": {},
   "source": [
    "Подставив $t$ во второе уравнение, мы находим, что высота брошенного мяча ($y$) связана с горизонтальной позицией мяча ($x$) следующей зависимостью:\n",
    "\n",
    "$y = \\frac{v_2}{v_1}x - \\frac{gx^2}{2v_1^2}$"
   ]
  },
  {
   "cell_type": "code",
   "execution_count": 35,
   "metadata": {},
   "outputs": [],
   "source": [
    "def ball_trajectory(x):\n",
    "    V1 = 1  # начальная горизонтальная скорость мяча (по оси x)\n",
    "    V2 = 10  # начальная вертикальная скорость мяча (по оси y)\n",
    "    g = 9.8 # ускорение свободного падения\n",
    "    y = ((V2 / V1) * x) - ((g * x**2) / (2 * V1**2))\n",
    "    return y"
   ]
  },
  {
   "cell_type": "code",
   "execution_count": 36,
   "metadata": {},
   "outputs": [
    {
     "name": "stdout",
     "output_type": "stream",
     "text": [
      "0.0\n",
      "3.775\n",
      "5.1\n",
      "3.9749999999999996\n",
      "0.3999999999999986\n"
     ]
    }
   ],
   "source": [
    "print(ball_trajectory(0))\n",
    "print(ball_trajectory(0.5))\n",
    "print(ball_trajectory(1.0))\n",
    "print(ball_trajectory(1.5))\n",
    "print(ball_trajectory(2))\n"
   ]
  },
  {
   "cell_type": "code",
   "execution_count": null,
   "metadata": {},
   "outputs": [],
   "source": []
  }
 ],
 "metadata": {
  "kernelspec": {
   "display_name": "Python 3",
   "language": "python",
   "name": "python3"
  },
  "language_info": {
   "codemirror_mode": {
    "name": "ipython",
    "version": 3
   },
   "file_extension": ".py",
   "mimetype": "text/x-python",
   "name": "python",
   "nbconvert_exporter": "python",
   "pygments_lexer": "ipython3",
   "version": "3.11.5"
  }
 },
 "nbformat": 4,
 "nbformat_minor": 2
}
